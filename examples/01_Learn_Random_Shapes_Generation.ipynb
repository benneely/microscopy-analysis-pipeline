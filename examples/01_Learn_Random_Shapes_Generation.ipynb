{
 "cells": [
  {
   "cell_type": "markdown",
   "metadata": {},
   "source": [
    "# Generate (RANDOM) Fake Data\n",
    "In this notebook, we will learn how to utilize `matterport/Mask-RCNN`'s `ShapesDataset` to generate images for testing. We've modified this class to have greater control over:\n",
    "\n",
    "    (1) The background color used.\n",
    "    (2) The colors used to generate shapes.\n",
    "    (3) The number and size of shapes to generate (TODO)"
   ]
  },
  {
   "cell_type": "code",
   "execution_count": 2,
   "metadata": {},
   "outputs": [],
   "source": [
    "import os\n",
    "os.chdir('..')"
   ]
  },
  {
   "cell_type": "markdown",
   "metadata": {},
   "source": [
    "### Instantiattion"
   ]
  },
  {
   "cell_type": "code",
   "execution_count": 3,
   "metadata": {},
   "outputs": [],
   "source": [
    "from examples.utils import shapes\n",
    "import matplotlib.pyplot as plt\n",
    "dataset_train = shapes.ShapesDataset()"
   ]
  },
  {
   "cell_type": "markdown",
   "metadata": {},
   "source": [
    "> By instantiating the shapes object we create a few metadata attributes, but have not created any real data yet."
   ]
  },
  {
   "cell_type": "markdown",
   "metadata": {},
   "source": [
    "### Generate Shape Metadata Configuration"
   ]
  },
  {
   "cell_type": "code",
   "execution_count": 4,
   "metadata": {},
   "outputs": [],
   "source": [
    "dataset_train.load_shapes(\n",
    "    count = 5,\n",
    "    height = 250,\n",
    "    width = 250\n",
    ")"
   ]
  },
  {
   "cell_type": "markdown",
   "metadata": {},
   "source": [
    "> By using the method `load_shapes`, we've created 5 images (240x240). Each image contains a random number of either: triangles, circles, or squares with a maximum of 4 of these shapes in each. All of the colors (i.e. background and shape colors) are random.\n",
    "\n",
    "At this point, really all we've done is generate a configuration for data generation. We can see that configuration by inspecting the `image_info` attribute."
   ]
  },
  {
   "cell_type": "code",
   "execution_count": 6,
   "metadata": {},
   "outputs": [
    {
     "name": "stdout",
     "output_type": "stream",
     "text": [
      "[{'bg_color': array([ 52, 218, 103]),\n",
      "  'height': 250,\n",
      "  'id': 0,\n",
      "  'path': None,\n",
      "  'shapes': [('square', (117, 225, 15), (156, 60, 23)),\n",
      "             ('circle', (201, 160, 100), (145, 99, 56))],\n",
      "  'source': 'shapes',\n",
      "  'width': 250},\n",
      " {'bg_color': array([120, 140,   0]),\n",
      "  'height': 250,\n",
      "  'id': 1,\n",
      "  'path': None,\n",
      "  'shapes': [('triangle', (238, 4, 79), (21, 75, 50)),\n",
      "             ('square', (161, 249, 183), (153, 20, 52))],\n",
      "  'source': 'shapes',\n",
      "  'width': 250},\n",
      " {'bg_color': array([ 31, 153,  61]),\n",
      "  'height': 250,\n",
      "  'id': 2,\n",
      "  'path': None,\n",
      "  'shapes': [('triangle', (32, 252, 60), (94, 185, 42))],\n",
      "  'source': 'shapes',\n",
      "  'width': 250},\n",
      " {'bg_color': array([151, 148, 198]),\n",
      "  'height': 250,\n",
      "  'id': 3,\n",
      "  'path': None,\n",
      "  'shapes': [('circle', (188, 231, 73), (74, 44, 22)),\n",
      "             ('square', (90, 233, 124), (169, 92, 43)),\n",
      "             ('circle', (132, 123, 209), (224, 125, 61))],\n",
      "  'source': 'shapes',\n",
      "  'width': 250},\n",
      " {'bg_color': array([ 69, 177, 237]),\n",
      "  'height': 250,\n",
      "  'id': 4,\n",
      "  'path': None,\n",
      "  'shapes': [('triangle', (56, 6, 132), (92, 28, 27)),\n",
      "             ('triangle', (252, 76, 209), (212, 225, 24)),\n",
      "             ('circle', (120, 134, 206), (24, 127, 43))],\n",
      "  'source': 'shapes',\n",
      "  'width': 250}]\n"
     ]
    }
   ],
   "source": [
    "import pprint\n",
    "pprint.pprint(dataset_train.image_info)"
   ]
  },
  {
   "cell_type": "markdown",
   "metadata": {},
   "source": [
    "> This is important because as can be seen, we can skip the `load_shapes` method and generate data from a configuration. In this way we can ensure reproducibility and also change the image(s) just by altering this configuration. We create a new notebook to demonstrate how this can be accomplished.  \n",
    "\n",
    "### Prepare Metadata\n",
    "In order for some other key methods to work, we need to `prepare` the metadata. Utlimately, this means creating a few additional attributes that other methods rely on."
   ]
  },
  {
   "cell_type": "code",
   "execution_count": 10,
   "metadata": {},
   "outputs": [],
   "source": [
    "dataset_train.prepare()"
   ]
  },
  {
   "cell_type": "code",
   "execution_count": 15,
   "metadata": {},
   "outputs": [
    {
     "data": {
      "image/png": "[encoded data removed]",
      "text/plain": [
       "<Figure size 432x288 with 1 Axes>"
      ]
     },
     "metadata": {
      "needs_background": "light"
     },
     "output_type": "display_data"
    },
    {
     "data": {
      "image/png": "[encoded data removed]",
      "text/plain": [
       "<Figure size 432x288 with 1 Axes>"
      ]
     },
     "metadata": {
      "needs_background": "light"
     },
     "output_type": "display_data"
    },
    {
     "data": {
      "image/png": "[encoded data removed]",
      "text/plain": [
       "<Figure size 432x288 with 1 Axes>"
      ]
     },
     "metadata": {
      "needs_background": "light"
     },
     "output_type": "display_data"
    },
    {
     "data": {
      "image/png": "[encoded data removed]",
      "text/plain": [
       "<Figure size 432x288 with 1 Axes>"
      ]
     },
     "metadata": {
      "needs_background": "light"
     },
     "output_type": "display_data"
    },
    {
     "data": {
      "image/png": "[encoded data removed]",
      "text/plain": [
       "<Figure size 432x288 with 1 Axes>"
      ]
     },
     "metadata": {
      "needs_background": "light"
     },
     "output_type": "display_data"
    }
   ],
   "source": [
    "for id in dataset_train.image_ids:\n",
    "    plt.imshow(dataset_train.load_image(id))\n",
    "    plt.show()"
   ]
  }
 ],
 "metadata": {
  "kernelspec": {
   "display_name": "Python 3",
   "language": "python",
   "name": "python3"
  },
  "language_info": {
   "codemirror_mode": {
    "name": "ipython",
    "version": 3
   },
   "file_extension": ".py",
   "mimetype": "text/x-python",
   "name": "python",
   "nbconvert_exporter": "python",
   "pygments_lexer": "ipython3",
   "version": "3.7.3"
  }
 },
 "nbformat": 4,
 "nbformat_minor": 2
}
