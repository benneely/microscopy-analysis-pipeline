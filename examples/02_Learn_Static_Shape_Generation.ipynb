{
 "cells": [
  {
   "cell_type": "markdown",
   "metadata": {},
   "source": [
    "# Generate Static Fake Data\n",
    "Earlier, we saw how to generate random fake shapes data. More likely, we need to control one or more of the features of these images (e.g. background color, number or types of shapes, color of shapes). In this notebook we will demonstrate how this can be accomplished."
   ]
  },
  {
   "cell_type": "code",
   "execution_count": 1,
   "metadata": {},
   "outputs": [],
   "source": [
    "import os\n",
    "os.chdir('..')"
   ]
  },
  {
   "cell_type": "code",
   "execution_count": 2,
   "metadata": {},
   "outputs": [],
   "source": [
    "from examples.utils import shapes\n",
    "import matplotlib.pyplot as plt\n",
    "import numpy as np\n",
    "dataset_train = shapes.ShapesDataset()"
   ]
  },
  {
   "cell_type": "markdown",
   "metadata": {},
   "source": [
    "> In order to generate data, each instance of a `ShapesDataset` object relies on an attributed `image_info`. We can manually set this attribute to generate specific images. Let's demonstrate how this can be accomplished."
   ]
  },
  {
   "cell_type": "markdown",
   "metadata": {},
   "source": [
    "### Black Background, Red Circle"
   ]
  },
  {
   "cell_type": "code",
   "execution_count": 3,
   "metadata": {},
   "outputs": [],
   "source": [
    "dataset_train.image_info = [\n",
    "    {\n",
    "        'bg_color': np.array([ 0, 0, 0]),\n",
    "        'height': 250,\n",
    "        'id': 0,\n",
    "        'path': None,\n",
    "        'shapes': [\n",
    "            ('circle', (255, 0, 0), (125, 125, 50))\n",
    "        ],\n",
    "        'source': 'shapes',\n",
    "        'width': 250\n",
    "    }\n",
    "]"
   ]
  },
  {
   "cell_type": "markdown",
   "metadata": {},
   "source": [
    "#### Explanation\n",
    "Most likely the `bg_color`, `height`, and `width` key value pairs are self explaining. We can safely ignore the `path` and `source` key value pairs (just keep them the same in any proceeding configurations. That leaves:\n",
    "\n",
    "    (1) `id` - a unique number assigned to the object.\n",
    "    (2) `shapes` - a list of tuples. Each tuple consistst of:\n",
    "        - str: either 'square', 'triangle', or 'circle'\n",
    "        - tuple of ints: rgb specifications\n",
    "        - tuple of ints: (x coordinate of center, y coordinate of center, shape specific size parameter)\n",
    "            - shape specific parameter: {\n",
    "                'circle': 'radius', \n",
    "                'square': 'radius of inscribed circle', \n",
    "                'triangle': 'equilateral triangle distance from points to center'\n",
    "            }"
   ]
  },
  {
   "cell_type": "markdown",
   "metadata": {},
   "source": [
    "### Prepare the object \n",
    "This creates attributes that other methods rely on to generate images, masks, etc."
   ]
  },
  {
   "cell_type": "code",
   "execution_count": 4,
   "metadata": {},
   "outputs": [],
   "source": [
    "dataset_train.prepare()"
   ]
  },
  {
   "cell_type": "code",
   "execution_count": 5,
   "metadata": {},
   "outputs": [
    {
     "data": {
      "text/plain": [
       "<matplotlib.image.AxesImage at 0x7facbac16e10>"
      ]
     },
     "execution_count": 5,
     "metadata": {},
     "output_type": "execute_result"
    },
    {
     "data": {
      "image/png": "[encoded data removed]",
      "text/plain": [
       "<Figure size 432x288 with 1 Axes>"
      ]
     },
     "metadata": {
      "needs_background": "light"
     },
     "output_type": "display_data"
    }
   ],
   "source": [
    "import matplotlib.pyplot as plt\n",
    "%matplotlib inline\n",
    "plt.imshow(dataset_train.load_image(0))"
   ]
  }
 ],
 "metadata": {
  "kernelspec": {
   "display_name": "Python 3",
   "language": "python",
   "name": "python3"
  },
  "language_info": {
   "codemirror_mode": {
    "name": "ipython",
    "version": 3
   },
   "file_extension": ".py",
   "mimetype": "text/x-python",
   "name": "python",
   "nbconvert_exporter": "python",
   "pygments_lexer": "ipython3",
   "version": "3.7.3"
  }
 },
 "nbformat": 4,
 "nbformat_minor": 2
}
